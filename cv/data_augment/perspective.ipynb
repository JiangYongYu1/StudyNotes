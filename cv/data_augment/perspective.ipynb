{
 "cells": [
  {
   "cell_type": "markdown",
   "metadata": {},
   "source": [
    "# yolov5中perspective模块解析"
   ]
  },
  {
   "cell_type": "code",
   "execution_count": 145,
   "metadata": {},
   "outputs": [],
   "source": [
    "import numpy as np\n",
    "import math\n",
    "import random\n",
    "import cv2"
   ]
  },
  {
   "cell_type": "markdown",
   "metadata": {},
   "source": [
    "## 平移 + 旋转 + 缩放"
   ]
  },
  {
   "cell_type": "code",
   "execution_count": 146,
   "metadata": {},
   "outputs": [],
   "source": [
    "def random_perspective(im,\n",
    "                       degrees=10,\n",
    "                       translate=.1,\n",
    "                       scale=.1,\n",
    "                       shear=10,\n",
    "                       perspective=0.0,\n",
    "                       border=(0, 0)):\n",
    "\n",
    "    height = im.shape[0] + border[0] * 2  # shape(h,w,c)\n",
    "    width = im.shape[1] + border[1] * 2\n",
    "\n",
    "    # Center\n",
    "    C = np.eye(3)\n",
    "    C[0, 2] = -im.shape[1] / 2  # x translation (pixels)\n",
    "    C[1, 2] = -im.shape[0] / 2  # y translation (pixels)\n",
    "\n",
    "    # Perspective\n",
    "    P = np.eye(3)\n",
    "    P[2, 0] = random.uniform(-perspective, perspective)  # x perspective (about y)\n",
    "    P[2, 1] = random.uniform(-perspective, perspective)  # y perspective (about x)\n",
    "\n",
    "    # Rotation and Scale\n",
    "    R = np.eye(3)\n",
    "    a = random.uniform(-degrees, degrees)\n",
    "    # a += random.choice([-180, -90, 0, 90])  # add 90deg rotations to small rotations\n",
    "    s = random.uniform(1 - scale, 1 + scale)\n",
    "    # s = 2 ** random.uniform(-scale, scale)\n",
    "    R[:2] = cv2.getRotationMatrix2D(angle=a, center=(0, 0), scale=s)\n",
    "\n",
    "    # Shear\n",
    "    S = np.eye(3)\n",
    "    S[0, 1] = math.tan(random.uniform(-shear, shear) * math.pi / 180)  # x shear (deg)\n",
    "    S[1, 0] = math.tan(random.uniform(-shear, shear) * math.pi / 180)  # y shear (deg)\n",
    "\n",
    "    # Translation\n",
    "    T = np.eye(3)\n",
    "    T[0, 2] = random.uniform(0.5 - translate, 0.5 + translate) * width  # x translation (pixels)\n",
    "    T[1, 2] = random.uniform(0.5 - translate, 0.5 + translate) * height  # y translation (pixels)\n",
    "\n",
    "    # Combined rotation matrix\n",
    "    M = T @ S @ R @ P @ C  # order of operations (right to left) is IMPORTANT\n",
    "    if (border[0] != 0) or (border[1] != 0) or (M != np.eye(3)).any():  # image changed\n",
    "        if perspective:\n",
    "            im = cv2.warpPerspective(im, M, dsize=(width, height), borderValue=(114, 114, 114))\n",
    "        else:  # affine\n",
    "            im = cv2.warpAffine(im, M[:2], dsize=(width, height), borderValue=(114, 114, 114))\n",
    "    return im"
   ]
  },
  {
   "cell_type": "code",
   "execution_count": 147,
   "metadata": {},
   "outputs": [],
   "source": [
    "class Mosaic:\n",
    "    def __init__(self, img_size=640):\n",
    "        self.img_size = img_size\n",
    "        self.mosaic_border = [-img_size // 2, -img_size // 2]\n",
    "        self.img_list = [\"./data/000000000872.jpg\",\n",
    "                         \"./data/000000012670.jpg\",\n",
    "                         \"./data/000000013659.jpg\",\n",
    "                         \"./data/000000015338.jpg\"]\n",
    "        \n",
    "        self.indices = np.arange(0, len(self.img_list))\n",
    "        \n",
    "    def load_image(self, i):\n",
    "        # Loads 1 image from dataset index 'i', returns (im, original hw, resized hw)\n",
    "        f = self.img_list[i]\n",
    "        im = cv2.imread(f)\n",
    "        h0, w0 = im.shape[:2]  # orig hw\n",
    "        r = self.img_size / max(h0, w0)  # ratio\n",
    "        if r != 1:  # if sizes are not equal\n",
    "            im = cv2.resize(im, (int(w0 * r), int(h0 * r)),\n",
    "                            interpolation=cv2.INTER_LINEAR if r > 1 else cv2.INTER_AREA)\n",
    "        return im, (h0, w0), im.shape[:2]  # im, hw_original, hw_resized\n",
    "    \n",
    "    def load_mosaic(self, index):\n",
    "        s = self.img_size\n",
    "        yc, xc = (int(random.uniform(-x, 2 * s + x)) for x in self.mosaic_border)  # mosaic center x, y\n",
    "        indices = [index] + random.choices(self.indices, k=3)  # 3 additional image indices\n",
    "        random.shuffle(indices)\n",
    "        for i, index in enumerate(indices):\n",
    "            # Load image\n",
    "            img, _, (h, w) = self.load_image(index)\n",
    "\n",
    "            # place img in img4\n",
    "            if i == 0:  # top left\n",
    "                img4 = np.full((s * 2, s * 2, img.shape[2]), 114, dtype=np.uint8)  # base image with 4 tiles\n",
    "                x1a, y1a, x2a, y2a = max(xc - w, 0), max(yc - h, 0), xc, yc  # xmin, ymin, xmax, ymax (large image)\n",
    "                x1b, y1b, x2b, y2b = w - (x2a - x1a), h - (y2a - y1a), w, h  # xmin, ymin, xmax, ymax (small image)\n",
    "            elif i == 1:  # top right\n",
    "                x1a, y1a, x2a, y2a = xc, max(yc - h, 0), min(xc + w, s * 2), yc\n",
    "                x1b, y1b, x2b, y2b = 0, h - (y2a - y1a), min(w, x2a - x1a), h\n",
    "            elif i == 2:  # bottom left\n",
    "                x1a, y1a, x2a, y2a = max(xc - w, 0), yc, xc, min(s * 2, yc + h)\n",
    "                x1b, y1b, x2b, y2b = w - (x2a - x1a), 0, w, min(y2a - y1a, h)\n",
    "            elif i == 3:  # bottom right\n",
    "                x1a, y1a, x2a, y2a = xc, yc, min(xc + w, s * 2), min(s * 2, yc + h)\n",
    "                x1b, y1b, x2b, y2b = 0, 0, min(w, x2a - x1a), min(y2a - y1a, h)\n",
    "\n",
    "            img4[y1a:y2a, x1a:x2a] = img[y1b:y2b, x1b:x2b]  # img4[ymin:ymax, xmin:xmax]\n",
    "        \n",
    "        return img4"
   ]
  },
  {
   "cell_type": "code",
   "execution_count": 148,
   "metadata": {},
   "outputs": [],
   "source": [
    "mosaic = Mosaic()"
   ]
  },
  {
   "cell_type": "code",
   "execution_count": 149,
   "metadata": {},
   "outputs": [],
   "source": [
    "out = mosaic.load_mosaic(0)"
   ]
  },
  {
   "cell_type": "code",
   "execution_count": 150,
   "metadata": {},
   "outputs": [
    {
     "data": {
      "text/plain": [
       "True"
      ]
     },
     "execution_count": 150,
     "metadata": {},
     "output_type": "execute_result"
    }
   ],
   "source": [
    "cv2.imwrite(\"out.jpg\", out)"
   ]
  },
  {
   "cell_type": "code",
   "execution_count": 151,
   "metadata": {},
   "outputs": [],
   "source": [
    "out1 = random_perspective(out, 10, 0.1, 0.5, 0, 0, (-320, -320))"
   ]
  },
  {
   "cell_type": "code",
   "execution_count": 152,
   "metadata": {},
   "outputs": [
    {
     "name": "stdout",
     "output_type": "stream",
     "text": [
      "(640, 640, 3)\n"
     ]
    }
   ],
   "source": [
    "print(out1.shape)"
   ]
  },
  {
   "cell_type": "code",
   "execution_count": 153,
   "metadata": {},
   "outputs": [
    {
     "data": {
      "text/plain": [
       "True"
      ]
     },
     "execution_count": 153,
     "metadata": {},
     "output_type": "execute_result"
    }
   ],
   "source": [
    "cv2.imwrite(\"out1.jpg\", out1)"
   ]
  },
  {
   "cell_type": "code",
   "execution_count": 154,
   "metadata": {},
   "outputs": [],
   "source": [
    "def random_perspective1(im,\n",
    "                       degrees=10,\n",
    "                       translate=.1,\n",
    "                       scale=.1,\n",
    "                       shear=10,\n",
    "                       perspective=0.0,\n",
    "                       border=(0, 0)):\n",
    "\n",
    "    height = im.shape[0] + border[0] * 2  # shape(h,w,c)\n",
    "    width = im.shape[1] + border[1] * 2\n",
    "\n",
    "    # Center\n",
    "    C = np.eye(3)\n",
    "    C[0, 2] = -im.shape[1] / 2  # x translation (pixels)\n",
    "    C[1, 2] = -im.shape[0] / 2  # y translation (pixels)\n",
    "\n",
    "    \n",
    "    R = np.eye(3)\n",
    "    a = random.uniform(-degrees, degrees)\n",
    "    # a += random.choice([-180, -90, 0, 90])  # add 90deg rotations to small rotations\n",
    "    s = random.uniform(1 - scale, 1 + scale)\n",
    "    s = 1\n",
    "    # s = 2 ** random.uniform(-scale, scale)\n",
    "    R[:2] = cv2.getRotationMatrix2D(angle=30, center=(640, 640), scale=s)\n",
    "    print(R)\n",
    "    R[:2] = cv2.getRotationMatrix2D(angle=30, center=(0, 0), scale=s)\n",
    "    print(R)\n",
    "    s = 0.9\n",
    "    R[:2] = cv2.getRotationMatrix2D(angle=30, center=(640, 640), scale=s)\n",
    "    print(R)\n",
    "    # Combined rotation matrix\n",
    "    M =  C  # order of operations (right to left) is IMPORTANT\n",
    "    \n",
    "    if (border[0] != 0) or (border[1] != 0) or (M != np.eye(3)).any():  # image changed\n",
    "        if perspective:\n",
    "            im = cv2.warpPerspective(im, M, dsize=(width, height), borderValue=(114, 114, 114))\n",
    "        else:  # affine\n",
    "            im = cv2.warpAffine(im, M[:2], dsize=(width, height), borderValue=(114, 114, 114))\n",
    "    return im"
   ]
  },
  {
   "cell_type": "code",
   "execution_count": 155,
   "metadata": {},
   "outputs": [
    {
     "name": "stdout",
     "output_type": "stream",
     "text": [
      "[[   0.8660254     0.5        -234.25625842]\n",
      " [  -0.5           0.8660254   405.74374158]\n",
      " [   0.            0.            1.        ]]\n",
      "[[ 0.8660254  0.5        0.       ]\n",
      " [-0.5        0.8660254  0.       ]\n",
      " [ 0.         0.         1.       ]]\n",
      "[[   0.77942286    0.45       -146.83063258]\n",
      " [  -0.45          0.77942286  429.16936742]\n",
      " [   0.            0.            1.        ]]\n"
     ]
    }
   ],
   "source": [
    "out2 = random_perspective1(out, 0, 0.1, 0.5, 0, 0, (-320, -320))"
   ]
  },
  {
   "cell_type": "code",
   "execution_count": 156,
   "metadata": {},
   "outputs": [
    {
     "data": {
      "text/plain": [
       "True"
      ]
     },
     "execution_count": 156,
     "metadata": {},
     "output_type": "execute_result"
    }
   ],
   "source": [
    "cv2.imwrite(\"out2.jpg\", out2)"
   ]
  }
 ],
 "metadata": {
  "interpreter": {
   "hash": "513dc2e41d739bb2c947903f3c0bbf636d03aa53ab50e61c694a27481c81805e"
  },
  "kernelspec": {
   "display_name": "Python 3.7.6 ('base')",
   "language": "python",
   "name": "python3"
  },
  "language_info": {
   "codemirror_mode": {
    "name": "ipython",
    "version": 3
   },
   "file_extension": ".py",
   "mimetype": "text/x-python",
   "name": "python",
   "nbconvert_exporter": "python",
   "pygments_lexer": "ipython3",
   "version": "3.7.6"
  },
  "orig_nbformat": 4
 },
 "nbformat": 4,
 "nbformat_minor": 2
}
